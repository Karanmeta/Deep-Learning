{
 "cells": [
  {
   "cell_type": "code",
   "execution_count": 1,
   "id": "e4c5b08f",
   "metadata": {},
   "outputs": [],
   "source": [
    "import pandas as pd\n",
    "import numpy as np"
   ]
  },
  {
   "cell_type": "code",
   "execution_count": 8,
   "id": "43d365d8",
   "metadata": {},
   "outputs": [],
   "source": [
    "df=pd.DataFrame([[8,8,4],[7,9,5],[6,10,6],[5,12,7]],columns=['cgpa','score','lpa'])"
   ]
  },
  {
   "cell_type": "code",
   "execution_count": 9,
   "id": "2a269c13",
   "metadata": {},
   "outputs": [
    {
     "data": {
      "text/html": [
       "<div>\n",
       "<style scoped>\n",
       "    .dataframe tbody tr th:only-of-type {\n",
       "        vertical-align: middle;\n",
       "    }\n",
       "\n",
       "    .dataframe tbody tr th {\n",
       "        vertical-align: top;\n",
       "    }\n",
       "\n",
       "    .dataframe thead th {\n",
       "        text-align: right;\n",
       "    }\n",
       "</style>\n",
       "<table border=\"1\" class=\"dataframe\">\n",
       "  <thead>\n",
       "    <tr style=\"text-align: right;\">\n",
       "      <th></th>\n",
       "      <th>cgpa</th>\n",
       "      <th>score</th>\n",
       "      <th>lpa</th>\n",
       "    </tr>\n",
       "  </thead>\n",
       "  <tbody>\n",
       "    <tr>\n",
       "      <th>0</th>\n",
       "      <td>8</td>\n",
       "      <td>8</td>\n",
       "      <td>4</td>\n",
       "    </tr>\n",
       "    <tr>\n",
       "      <th>1</th>\n",
       "      <td>7</td>\n",
       "      <td>9</td>\n",
       "      <td>5</td>\n",
       "    </tr>\n",
       "    <tr>\n",
       "      <th>2</th>\n",
       "      <td>6</td>\n",
       "      <td>10</td>\n",
       "      <td>6</td>\n",
       "    </tr>\n",
       "    <tr>\n",
       "      <th>3</th>\n",
       "      <td>5</td>\n",
       "      <td>12</td>\n",
       "      <td>7</td>\n",
       "    </tr>\n",
       "  </tbody>\n",
       "</table>\n",
       "</div>"
      ],
      "text/plain": [
       "   cgpa  score  lpa\n",
       "0     8      8    4\n",
       "1     7      9    5\n",
       "2     6     10    6\n",
       "3     5     12    7"
      ]
     },
     "execution_count": 9,
     "metadata": {},
     "output_type": "execute_result"
    }
   ],
   "source": [
    "df"
   ]
  },
  {
   "cell_type": "code",
   "execution_count": 27,
   "id": "c4385d59",
   "metadata": {},
   "outputs": [],
   "source": [
    "def initialize(layer_dims):\n",
    "    np.random.seed(3)\n",
    "    parameters={}\n",
    "    L=len(layer_dims)\n",
    "    for l in range(1,L):\n",
    "        parameters['W'+str(l)]=np.ones((layer_dims[l-1],layer_dims[l]))*0.1\n",
    "        parameters['b'+str(l)]=np.zeros((layer_dims[l],1))\n",
    "    return parameters"
   ]
  },
  {
   "cell_type": "code",
   "execution_count": 28,
   "id": "60872648",
   "metadata": {},
   "outputs": [
    {
     "data": {
      "text/plain": [
       "{'W1': array([[0.1, 0.1],\n",
       "        [0.1, 0.1]]),\n",
       " 'b1': array([[0.],\n",
       "        [0.]]),\n",
       " 'W2': array([[0.1],\n",
       "        [0.1]]),\n",
       " 'b2': array([[0.]])}"
      ]
     },
     "execution_count": 28,
     "metadata": {},
     "output_type": "execute_result"
    }
   ],
   "source": [
    "initialize([2,2,1])"
   ]
  },
  {
   "cell_type": "code",
   "execution_count": 29,
   "id": "a073add0",
   "metadata": {},
   "outputs": [],
   "source": [
    "def linear_forward(A_prev,W,b):\n",
    "    Z=np.dot(W.T,A_prev)+b\n",
    "    return Z"
   ]
  },
  {
   "cell_type": "code",
   "execution_count": 70,
   "id": "10641c8b",
   "metadata": {},
   "outputs": [],
   "source": [
    "#Forward Propogation\n",
    "def Layer_forward(X,parameters):\n",
    "\n",
    "    A = X\n",
    "    L = len(parameters)//2\n",
    "    for l in range(1, L+1):\n",
    "        A_prev=A\n",
    "        Wl=parameters['W'+str(l)]\n",
    "        bl=parameters['b'+str(l)]\n",
    "        # print(\"A\"+str(l-1)+\":\",A_prev)\n",
    "        # print(\"W\"+str(l)+\":\",Wl)\n",
    "        # print(\"b\"+str(l)+\":\",bl)\n",
    "        # print(\"--\"*20)\n",
    "\n",
    "        A=linear_forward(A_prev,Wl,bl)\n",
    "        # print(\"A\"+str(l)+\":\",A)\n",
    "        # print(\"**\"*20)\n",
    "    return A,A_prev"
   ]
  },
  {
   "cell_type": "code",
   "execution_count": 63,
   "id": "8b5888c8",
   "metadata": {},
   "outputs": [
    {
     "name": "stdout",
     "output_type": "stream",
     "text": [
      "A0: [[8]\n",
      " [8]]\n",
      "W1: [[0.1 0.1]\n",
      " [0.1 0.1]]\n",
      "b1: [[0.]\n",
      " [0.]]\n",
      "----------------------------------------\n",
      "A1: [[1.6]\n",
      " [1.6]]\n",
      "****************************************\n",
      "A1: [[1.6]\n",
      " [1.6]]\n",
      "W2: [[0.1]\n",
      " [0.1]]\n",
      "b2: [[0.]]\n",
      "----------------------------------------\n",
      "A2: [[0.32]]\n",
      "****************************************\n"
     ]
    }
   ],
   "source": [
    "X=df[['cgpa','score']].values[0].reshape(2,1)\n",
    "y=df[['lpa']].values[0][0]\n",
    "\n",
    "parameters=initialize([2,2,1])\n",
    "y_hat,A1=Layer_forward(X,parameters)"
   ]
  },
  {
   "cell_type": "code",
   "execution_count": 65,
   "id": "281f300c",
   "metadata": {},
   "outputs": [
    {
     "name": "stdout",
     "output_type": "stream",
     "text": [
      "0.32000000000000006\n",
      "[[1.6]\n",
      " [1.6]]\n"
     ]
    }
   ],
   "source": [
    "y_hat=y_hat[0][0]\n",
    "print(y_hat)\n",
    "print(A1)"
   ]
  },
  {
   "cell_type": "code",
   "execution_count": 62,
   "id": "ceb8d5ef",
   "metadata": {},
   "outputs": [],
   "source": [
    "def update_parameters(parameters,y,y_hat,A1,X,lr):\n",
    "    parameters['W2'][0][0]+=(lr*2*(y-y_hat)*A1[0][0])\n",
    "    parameters['W2'][1][0]+=(lr*2*(y-y_hat)*A1[1][0])\n",
    "    parameters['b2'][0][0]+=(lr*2*(y-y_hat))\n",
    "\n",
    "    parameters['W1'][0][0]+=(lr*2*(y-y_hat)*parameters['W2'][0][0]*X[0][0])\n",
    "    parameters['W1'][1][0]+=(lr*2*(y-y_hat)*parameters['W2'][0][0]*X[1][0])\n",
    "    parameters['b1'][0][0]+=(lr*2*(y-y_hat)*parameters['W2'][0][0])\n",
    "\n",
    "    parameters['W1'][1][0]+=(lr*2*(y-y_hat)*parameters['W2'][1][0]*X[0][0])\n",
    "    parameters['W1'][1][1]+=(lr*2*(y-y_hat)*parameters['W2'][1][0]*X[1][0])\n",
    "    parameters['b1'][1][0]+=(lr*2*(y-y_hat)*parameters['W2'][1][0])"
   ]
  },
  {
   "cell_type": "code",
   "execution_count": 66,
   "id": "e5f0367d",
   "metadata": {},
   "outputs": [],
   "source": [
    "update_parameters(parameters,y,y_hat,A1,X,0.001)"
   ]
  },
  {
   "cell_type": "code",
   "execution_count": 67,
   "id": "04036c94",
   "metadata": {},
   "outputs": [
    {
     "data": {
      "text/plain": [
       "{'W1': array([[0.10658137, 0.1       ],\n",
       "        [0.11316274, 0.10658137]]),\n",
       " 'b1': array([[0.00082267],\n",
       "        [0.00082267]]),\n",
       " 'W2': array([[0.111776],\n",
       "        [0.111776]]),\n",
       " 'b2': array([[0.00736]])}"
      ]
     },
     "execution_count": 67,
     "metadata": {},
     "output_type": "execute_result"
    }
   ],
   "source": [
    "parameters"
   ]
  },
  {
   "cell_type": "code",
   "execution_count": 72,
   "id": "7c5bb1b6",
   "metadata": {},
   "outputs": [
    {
     "name": "stdout",
     "output_type": "stream",
     "text": [
      "epcoch - 1 Loss 26.13713395667704\n",
      "epcoch - 2 Loss 22.360047827597484\n",
      "epcoch - 3 Loss 17.756753094481898\n",
      "epcoch - 4 Loss 13.870475867844895\n",
      "epcoch - 5 Loss 11.235251222155926\n",
      "epcoch - 6 Loss 9.462241116203662\n",
      "epcoch - 7 Loss 8.198959601363331\n",
      "epcoch - 8 Loss 7.252206849507054\n",
      "epcoch - 9 Loss 6.515444434202808\n",
      "epcoch - 10 Loss 5.925389925550394\n",
      "epcoch - 11 Loss 5.441964609823956\n",
      "epcoch - 12 Loss 5.038499581038171\n",
      "epcoch - 13 Loss 4.696544471630168\n",
      "epcoch - 14 Loss 4.402923593956998\n",
      "epcoch - 15 Loss 4.147975497720227\n",
      "epcoch - 16 Loss 3.924454204931659\n",
      "epcoch - 17 Loss 3.726818633453246\n",
      "epcoch - 18 Loss 3.550758979786314\n",
      "epcoch - 19 Loss 3.3928726911534106\n",
      "epcoch - 20 Loss 3.2504376526513403\n",
      "epcoch - 21 Loss 3.1212501797722645\n",
      "epcoch - 22 Loss 3.0035071951825287\n",
      "epcoch - 23 Loss 2.895719142058596\n",
      "epcoch - 24 Loss 2.7966446690691313\n",
      "epcoch - 25 Loss 2.7052409909222668\n",
      "epcoch - 26 Loss 2.6206257041296466\n",
      "epcoch - 27 Loss 2.542047088116365\n",
      "epcoch - 28 Loss 2.4688607703414642\n",
      "epcoch - 29 Loss 2.400511219289761\n",
      "epcoch - 30 Loss 2.3365169388329057\n",
      "epcoch - 31 Loss 2.2764585281677188\n",
      "epcoch - 32 Loss 2.219968980487784\n",
      "epcoch - 33 Loss 2.166725745506368\n",
      "epcoch - 34 Loss 2.116444192685634\n",
      "epcoch - 35 Loss 2.068872195031592\n",
      "epcoch - 36 Loss 2.0237856155676797\n",
      "epcoch - 37 Loss 1.9809845257104999\n",
      "epcoch - 38 Loss 1.9402900207241733\n",
      "epcoch - 39 Loss 1.901541525085803\n",
      "epcoch - 40 Loss 1.8645945020280326\n",
      "epcoch - 41 Loss 1.8293184982532271\n",
      "epcoch - 42 Loss 1.7955954679576611\n",
      "epcoch - 43 Loss 1.763318330696949\n",
      "epcoch - 44 Loss 1.7323897258909546\n",
      "epcoch - 45 Loss 1.7027209333800477\n",
      "epcoch - 46 Loss 1.674230934764232\n",
      "epcoch - 47 Loss 1.6468455945576526\n",
      "epcoch - 48 Loss 1.6204969436855745\n",
      "epcoch - 49 Loss 1.5951225507036044\n",
      "epcoch - 50 Loss 1.5706649684581664\n",
      "epcoch - 51 Loss 1.5470712458336535\n",
      "epcoch - 52 Loss 1.5242924958246755\n",
      "epcoch - 53 Loss 1.5022835124943175\n",
      "epcoch - 54 Loss 1.4810024304813996\n",
      "epcoch - 55 Loss 1.4604104216414713\n",
      "epcoch - 56 Loss 1.440471424179874\n",
      "epcoch - 57 Loss 1.42115190028666\n",
      "epcoch - 58 Loss 1.402420618833531\n",
      "epcoch - 59 Loss 1.3842484601593708\n",
      "epcoch - 60 Loss 1.3666082403674011\n",
      "epcoch - 61 Loss 1.3494745528949517\n",
      "epcoch - 62 Loss 1.3328236254057444\n",
      "epcoch - 63 Loss 1.3166331903022108\n",
      "epcoch - 64 Loss 1.3008823673681884\n",
      "epcoch - 65 Loss 1.2855515572356722\n",
      "epcoch - 66 Loss 1.2706223445276519\n",
      "epcoch - 67 Loss 1.2560774096661267\n",
      "epcoch - 68 Loss 1.2419004484533414\n",
      "epcoch - 69 Loss 1.2280760986376833\n",
      "epcoch - 70 Loss 1.2145898727658293\n",
      "epcoch - 71 Loss 1.201428096701408\n",
      "epcoch - 72 Loss 1.1885778532593243\n",
      "epcoch - 73 Loss 1.1760269304652575\n",
      "epcoch - 74 Loss 1.1637637740028737\n",
      "epcoch - 75 Loss 1.1517774434579688\n",
      "epcoch - 76 Loss 1.1400575720098929\n",
      "epcoch - 77 Loss 1.1285943292569423\n",
      "epcoch - 78 Loss 1.117378386894547\n",
      "epcoch - 79 Loss 1.1064008869935613\n",
      "epcoch - 80 Loss 1.0956534126512376\n",
      "epcoch - 81 Loss 1.0851279608099356\n",
      "epcoch - 82 Loss 1.0748169170586164\n",
      "epcoch - 83 Loss 1.064713032250009\n",
      "epcoch - 84 Loss 1.0548094007822497\n",
      "epcoch - 85 Loss 1.045099440408043\n",
      "epcoch - 86 Loss 1.0355768734471291\n",
      "epcoch - 87 Loss 1.0262357092892767\n",
      "epcoch - 88 Loss 1.0170702280852728\n",
      "epcoch - 89 Loss 1.0080749655326138\n",
      "epcoch - 90 Loss 0.9992446986708831\n",
      "epcoch - 91 Loss 0.990574432609299\n",
      "epcoch - 92 Loss 0.9820593881156467\n",
      "epcoch - 93 Loss 0.9736949900019108\n",
      "epcoch - 94 Loss 0.9654768562474303\n",
      "epcoch - 95 Loss 0.9574007878053858\n",
      "epcoch - 96 Loss 0.9494627590429517\n",
      "epcoch - 97 Loss 0.9416589087695412\n",
      "epcoch - 98 Loss 0.9339855318112947\n",
      "epcoch - 99 Loss 0.9264390710933568\n",
      "epcoch - 100 Loss 0.9190161101945507\n"
     ]
    },
    {
     "data": {
      "text/plain": [
       "{'W1': array([[-0.04792318,  0.1       ],\n",
       "        [ 0.50987194,  0.52596969]]),\n",
       " 'b1': array([[0.01898875],\n",
       "        [0.01712963]]),\n",
       " 'W2': array([[0.59972159],\n",
       "        [0.47315348]]),\n",
       " 'b2': array([[0.08884458]])}"
      ]
     },
     "execution_count": 72,
     "metadata": {},
     "output_type": "execute_result"
    }
   ],
   "source": [
    "parameters=initialize([2,2,1])\n",
    "epochs=100\n",
    "loss=[]\n",
    "\n",
    "for i in range(epochs):\n",
    "    for j in range(df.shape[0]):\n",
    "        X=df[['cgpa','score']].values[j].reshape(2,1)\n",
    "        y=df[['lpa']].values[j][0]\n",
    "        y_hat,A1=Layer_forward(X,parameters)\n",
    "        y_hat=y_hat[0][0]\n",
    "        update_parameters(parameters,y,y_hat,A1,X,0.001)\n",
    "        loss.append((y-y_hat)**2)\n",
    "    print('epcoch -',i+1,'Loss',np.array(loss).mean()) \n",
    "\n",
    "parameters       "
   ]
  },
  {
   "cell_type": "code",
   "execution_count": null,
   "id": "a906a021",
   "metadata": {},
   "outputs": [],
   "source": []
  }
 ],
 "metadata": {
  "kernelspec": {
   "display_name": "vehicle",
   "language": "python",
   "name": "python3"
  },
  "language_info": {
   "codemirror_mode": {
    "name": "ipython",
    "version": 3
   },
   "file_extension": ".py",
   "mimetype": "text/x-python",
   "name": "python",
   "nbconvert_exporter": "python",
   "pygments_lexer": "ipython3",
   "version": "3.10.18"
  }
 },
 "nbformat": 4,
 "nbformat_minor": 5
}
